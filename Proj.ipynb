{
 "cells": [
  {
   "cell_type": "code",
   "execution_count": 2,
   "metadata": {},
   "outputs": [
    {
     "name": "stdout",
     "output_type": "stream",
     "text": [
      "hello\n"
     ]
    }
   ],
   "source": [
    "print(\"hello\")"
   ]
  },
  {
   "cell_type": "code",
   "execution_count": 1,
   "metadata": {},
   "outputs": [
    {
     "name": "stdout",
     "output_type": "stream",
     "text": [
      "meowmeow\n",
      "hello?\n",
      "hehehaha\n"
     ]
    }
   ],
   "source": [
    "print(\"meowmeow\")\n",
    "\n",
    "print(\"hello?\")\n",
    "\n",
    "print(\"hehehaha\")"
   ]
  },
  {
   "cell_type": "code",
   "execution_count": 3,
   "metadata": {},
   "outputs": [
    {
     "name": "stdout",
     "output_type": "stream",
     "text": [
      "kaiyi test\n",
      "weeeeeee\n",
      "weyuwuye\n"
     ]
    }
   ],
   "source": [
    "print(\"kaiyi test\")\n",
    "\n",
    "print(\"weeeeeee\")\n",
    "print(\"weyuwuye\")"
   ]
  },
